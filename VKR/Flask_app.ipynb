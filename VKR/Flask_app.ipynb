{
 "cells": [
  {
   "cell_type": "code",
   "execution_count": 3,
   "id": "09078e9f",
   "metadata": {},
   "outputs": [
    {
     "name": "stdout",
     "output_type": "stream",
     "text": [
      " * Serving Flask app \"__main__\" (lazy loading)\n",
      " * Environment: production\n",
      "\u001b[31m   WARNING: This is a development server. Do not use it in a production deployment.\u001b[0m\n",
      "\u001b[2m   Use a production WSGI server instead.\u001b[0m\n",
      " * Debug mode: off\n"
     ]
    },
    {
     "name": "stderr",
     "output_type": "stream",
     "text": [
      " * Running on http://127.0.0.1:5000/ (Press CTRL+C to quit)\n",
      "127.0.0.1 - - [25/Apr/2023 18:03:28] \"GET / HTTP/1.1\" 200 -\n",
      "127.0.0.1 - - [25/Apr/2023 18:03:30] \"POST / HTTP/1.1\" 200 -\n",
      "127.0.0.1 - - [25/Apr/2023 18:03:39] \"GET / HTTP/1.1\" 200 -\n",
      "127.0.0.1 - - [25/Apr/2023 18:03:51] \"POST / HTTP/1.1\" 200 -\n"
     ]
    },
    {
     "name": "stdout",
     "output_type": "stream",
     "text": [
      "1/1 [==============================] - 0s 62ms/step\n"
     ]
    },
    {
     "name": "stderr",
     "output_type": "stream",
     "text": [
      "127.0.0.1 - - [25/Apr/2023 18:04:01] \"POST / HTTP/1.1\" 200 -\n"
     ]
    }
   ],
   "source": [
    "#!/usr/bin/env python\n",
    "# coding: utf-8\n",
    "\n",
    "import pandas as pd\n",
    "import statsmodels.api as sm\n",
    "import numpy as np\n",
    "from tensorflow import keras\n",
    "import os\n",
    "from sklearn.preprocessing import StandardScaler\n",
    "os.environ['KMP_DUPLICATE_LIB_OK']='True'\n",
    "\n",
    "NN3 = keras.saving.load_model('model\\\\NN3')\n",
    "\n",
    "from flask import Flask, render_template, request\n",
    "app = Flask(__name__)\n",
    "\n",
    "def check_params(x1, x2):\n",
    "    message = f\"X1 = {x1}, X2 = {x2}\"\n",
    "    return message\n",
    "\n",
    "def print_params_for_NN(x1, x2, x3):\n",
    "    if (x1 == \"\" or x2 == \"\" or x3 == \"\"):\n",
    "        message = \"ОШИБКА! Вы не ввели параметры.\"\n",
    "    elif(float(x1) >= 0 and float(x2) >=0 and float(x3) >=0):\n",
    "        message = f\"Работники, чел.: {x1}\\nНаличие тракторов, шт.: {x2}\\nОбщая площадь земли, га: {x3}\"\n",
    "    else:\n",
    "        message = \"ОШИБКА! Введенные значения должны быть больше или равны 0.\"\n",
    "    return message\n",
    "\n",
    "def calculate_NN(x1, x2, x3):\n",
    "    X = pd.DataFrame([[x1,x2,x3]],columns=['Работники, чел.','Наличие тракторов, шт.','Общая площадь земли, га'])\n",
    "    standardscaler = StandardScaler()\n",
    "    transform_X = standardscaler.fit_transform(X)\n",
    "    res = NN3.predict(transform_X)\n",
    "    # create empty table with 3 fields\n",
    "    Predict_dataset_like = np.zeros(shape=(len(X), 3) )\n",
    "    # put the predicted values in the right field\n",
    "    Predict_dataset_like[:,0] = res[:,0]\n",
    "    # inverse transform and then select the right field\n",
    "    res_inverse = standardscaler.inverse_transform(Predict_dataset_like)[:,0]\n",
    "    message = \": \".join([\"Доход, тыс. руб.\", str(res_inverse[0])])\n",
    "    return message\n",
    "\n",
    "@app.route(\"/\", methods=[\"post\", \"get\"])\n",
    "def index():\n",
    "    message = ''\n",
    "    message2 = ''\n",
    "    x1=0\n",
    "    x2=0\n",
    "    x3=0\n",
    "    if request.method == \"POST\":\n",
    "        x1 = request.form.get(\"x1\")\n",
    "        x2 = request.form.get(\"x2\")\n",
    "        x3 = request.form.get(\"x3\")\n",
    "        \n",
    "        message = print_params_for_NN(x1, x2, x3) \n",
    "        if \"ОШИБКА\" not in message:\n",
    "            message2 = calculate_NN(float(x1), float(x2), float(x3))\n",
    "        \n",
    "    return render_template(\"index.html\", message=message, message2=message2, x1=x1, x2=x2, x3=x3)\n",
    "\n",
    "app.run()\n"
   ]
  },
  {
   "cell_type": "code",
   "execution_count": null,
   "id": "c2ce84e8",
   "metadata": {},
   "outputs": [],
   "source": []
  }
 ],
 "metadata": {
  "kernelspec": {
   "display_name": "Python 3 (ipykernel)",
   "language": "python",
   "name": "python3"
  },
  "language_info": {
   "codemirror_mode": {
    "name": "ipython",
    "version": 3
   },
   "file_extension": ".py",
   "mimetype": "text/x-python",
   "name": "python",
   "nbconvert_exporter": "python",
   "pygments_lexer": "ipython3",
   "version": "3.9.13"
  }
 },
 "nbformat": 4,
 "nbformat_minor": 5
}
